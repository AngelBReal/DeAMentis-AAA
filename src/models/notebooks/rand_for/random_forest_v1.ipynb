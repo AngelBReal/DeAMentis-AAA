{
  "nbformat": 4,
  "nbformat_minor": 0,
  "metadata": {
    "colab": {
      "provenance": [],
      "gpuType": "L4"
    },
    "kernelspec": {
      "name": "python3",
      "display_name": "Python 3"
    },
    "language_info": {
      "name": "python"
    },
    "accelerator": "GPU"
  },
  "cells": [
    {
      "cell_type": "code",
      "source": [
        "# Instalar dependencias necesarias\n",
        "!pip install mlflow dagshub --quiet\n"
      ],
      "metadata": {
        "id": "udnE9_Vsq6U2"
      },
      "execution_count": 19,
      "outputs": []
    },
    {
      "cell_type": "code",
      "source": [
        "# 1. Configuración del entorno e importaciones\n",
        "# --------------------------------------------\n",
        "import os\n",
        "import pandas as pd\n",
        "import numpy as np\n",
        "from getpass import getpass\n",
        "import matplotlib.pyplot as plt\n",
        "import seaborn as sns\n",
        "from sklearn.model_selection import train_test_split\n",
        "from sklearn.ensemble import RandomForestRegressor\n",
        "from sklearn.model_selection import GridSearchCV\n",
        "from sklearn.metrics import mean_squared_error, mean_absolute_error, r2_score\n",
        "import mlflow\n",
        "import mlflow.sklearn"
      ],
      "metadata": {
        "id": "oTVqOo9hEe8V"
      },
      "execution_count": 29,
      "outputs": []
    },
    {
      "cell_type": "code",
      "source": [
        "# -------------------- CONFIGURACIÓN MLFLOW --------------------\n",
        "\n",
        "# Finalizar cualquier sesión de MLflow activa\n",
        "try:\n",
        "    mlflow.end_run()\n",
        "    print(\"Sesión anterior de MLflow finalizada\")\n",
        "except:\n",
        "    pass\n",
        "\n",
        "# Configurar MLflow\n",
        "try:\n",
        "    print(\"Configurando MLflow...\")\n",
        "    os.environ['MLFLOW_TRACKING_URI'] = 'https://dagshub.com/AngelBReal/DeAMentis-AAA.mlflow'\n",
        "    os.environ['MLFLOW_TRACKING_USERNAME'] = 'AngelBReal'\n",
        "\n",
        "    # Solo solicita el token si no está configurado\n",
        "    if 'MLFLOW_TRACKING_PASSWORD' not in os.environ:\n",
        "        os.environ['MLFLOW_TRACKING_PASSWORD'] = getpass('Token DagsHub: ')\n",
        "\n",
        "    # Configurar URI\n",
        "    mlflow.set_tracking_uri(os.environ['MLFLOW_TRACKING_URI'])\n",
        "    print(f\"URI de tracking: {mlflow.get_tracking_uri()}\")\n",
        "except Exception as e:\n",
        "    print(f\"Error en configuración remota: {e}\")\n",
        "    print(\"Usando MLflow en modo local\")\n",
        "    mlflow.set_tracking_uri(None)\n",
        "\n",
        "# -------------------- CARGA Y PREPARACIÓN DE DATOS --------------------\n",
        "\n",
        "# Cargar dataset\n",
        "print(\"\\nCargando dataset...\")\n",
        "df = pd.read_csv(\"/content/classical_models.csv\")\n",
        "print(f\"Dataset cargado: {df.shape[0]} filas, {df.shape[1]} columnas\")\n",
        "\n",
        "# Limpiar valores faltantes\n",
        "df_clean = df.dropna(subset=['label'])\n",
        "print(f\"Dataset después de limpiar: {df_clean.shape[0]} filas\")\n",
        "\n",
        "# Separar características y variable objetivo\n",
        "X = df_clean.drop(columns=[\"label\"])\n",
        "y = df_clean[\"label\"]\n",
        "\n",
        "# Dividir en conjuntos de entrenamiento y prueba\n",
        "X_train, X_test, y_train, y_test = train_test_split(X, y,\n",
        "                                                    test_size=0.2,\n",
        "                                                    random_state=42)\n",
        "\n",
        "print(f\"Conjunto de entrenamiento: {X_train.shape}\")\n",
        "print(f\"Conjunto de prueba: {X_test.shape}\")\n",
        "\n",
        "# -------------------- ENTRENAMIENTO Y EVALUACIÓN DEL MODELO --------------------\n",
        "\n",
        "# Establece el nombre del experimento\n",
        "experiment_name = \"Regresión Noticias Falsas\"\n",
        "mlflow.set_experiment(experiment_name)\n",
        "print(f\"Experimento configurado: {experiment_name}\")\n",
        "\n",
        "# Definición de la rejilla de hiperparámetros\n",
        "param_grid = {\n",
        "    'n_estimators': [100, 200],\n",
        "    'max_depth': [5, 10, None],\n",
        "    'min_samples_split': [2, 5]\n",
        "}\n",
        "\n",
        "# Inicia la ejecución principal\n",
        "with mlflow.start_run(run_name=\"GridSearchCV con ejecuciones anidadas\") as parent_run:\n",
        "    print(f\"\\nEjecución principal iniciada: {parent_run.info.run_id}\")\n",
        "\n",
        "    # Registra el dataset\n",
        "    dataset = mlflow.data.from_pandas(df_clean, name=\"classical_models\", targets=\"label\")\n",
        "    mlflow.log_input(dataset)\n",
        "\n",
        "    # Establece etiquetas para la ejecución\n",
        "    mlflow.set_tags({\n",
        "        \"modelo\": \"RandomForestRegressor\",\n",
        "        \"preprocesamiento\": \"TF-IDF\",\n",
        "        \"experimentador\": \"AngelBReal\"\n",
        "    })\n",
        "\n",
        "    # Variables para rastrear el mejor modelo\n",
        "    best_model = None\n",
        "    best_score = float('-inf')\n",
        "    best_params = None\n",
        "\n",
        "    # Número total de combinaciones\n",
        "    total_combinations = len(list(ParameterGrid(param_grid)))\n",
        "    print(f\"Total de combinaciones a probar: {total_combinations}\")\n",
        "\n",
        "    # Iteración sobre cada combinación de hiperparámetros\n",
        "    for i, params in enumerate(ParameterGrid(param_grid)):\n",
        "        # Inicialización del modelo con los parámetros actuales\n",
        "        model = RandomForestRegressor(random_state=42, **params)\n",
        "\n",
        "        print(f\"\\nProbando combinación {i+1}/{total_combinations}:\")\n",
        "        print(f\"Parámetros: {params}\")\n",
        "\n",
        "        # Inicia una ejecución anidada para esta combinación de hiperparámetros\n",
        "        with mlflow.start_run(run_name=f\"Modelo con params: {params}\", nested=True) as child_run:\n",
        "            try:\n",
        "                print(f\"Ejecución anidada iniciada: {child_run.info.run_id}\")\n",
        "\n",
        "                # Entrenamiento del modelo\n",
        "                print(\"Entrenando modelo...\")\n",
        "                model.fit(X_train, y_train)\n",
        "\n",
        "                # Predicciones en el conjunto de prueba\n",
        "                predictions = model.predict(X_test)\n",
        "\n",
        "                # Cálculo de métricas\n",
        "                mse = mean_squared_error(y_test, predictions)\n",
        "                mae = mean_absolute_error(y_test, predictions)\n",
        "                r2 = r2_score(y_test, predictions)\n",
        "\n",
        "                # Mostrar métricas\n",
        "                print(f\"MSE: {mse:.6f}\")\n",
        "                print(f\"MAE: {mae:.6f}\")\n",
        "                print(f\"R²: {r2:.6f}\")\n",
        "\n",
        "                # Registro de parámetros y métricas en MLflow\n",
        "                mlflow.log_params(params)\n",
        "                mlflow.log_metric(\"mse\", mse)\n",
        "                mlflow.log_metric(\"mae\", mae)\n",
        "                mlflow.log_metric(\"r2_score\", r2)\n",
        "\n",
        "                # Crear y guardar visualización\n",
        "                plt.figure(figsize=(10, 4))\n",
        "\n",
        "                # Predicciones vs reales\n",
        "                plt.subplot(1, 2, 1)\n",
        "                plt.scatter(y_test, predictions, alpha=0.5)\n",
        "                plt.plot([y_test.min(), y_test.max()], [y_test.min(), y_test.max()], 'r--')\n",
        "                plt.xlabel('Valores reales')\n",
        "                plt.ylabel('Predicciones')\n",
        "                plt.title('Predicciones vs Valores reales')\n",
        "\n",
        "                # Distribución de residuos\n",
        "                plt.subplot(1, 2, 2)\n",
        "                residuos = y_test - predictions\n",
        "                sns.histplot(residuos, kde=True)\n",
        "                plt.xlabel('Error')\n",
        "                plt.title('Distribución de errores')\n",
        "\n",
        "                plt.tight_layout()\n",
        "                plt.savefig(f'model_evaluation_{i+1}.png')\n",
        "\n",
        "                # Registrar visualización en MLflow\n",
        "                mlflow.log_artifact(f'model_evaluation_{i+1}.png')\n",
        "\n",
        "                # Registro del modelo\n",
        "                mlflow.sklearn.log_model(model, \"modelo_entrenado\")\n",
        "\n",
        "                # Actualizar el mejor modelo si es necesario\n",
        "                if r2 > best_score:\n",
        "                    best_score = r2\n",
        "                    best_model = model\n",
        "                    best_params = params\n",
        "                    print(\"¡Nuevo mejor modelo encontrado!\")\n",
        "\n",
        "            except Exception as e:\n",
        "                print(f\"Error en ejecución anidada: {e}\")\n",
        "\n",
        "    # Registrar información del mejor modelo en la ejecución principal\n",
        "    if best_model is not None:\n",
        "        print(\"\\n=== MEJOR MODELO ENCONTRADO ===\")\n",
        "        print(f\"Parámetros: {best_params}\")\n",
        "        print(f\"R²: {best_score:.6f}\")\n",
        "\n",
        "        # Registrar mejor modelo y parámetros en la ejecución principal\n",
        "        mlflow.log_param(\"best_params\", best_params)\n",
        "        mlflow.log_metric(\"best_r2_score\", best_score)\n",
        "\n",
        "        # Guardar el mejor modelo con un nombre especial\n",
        "        with open('best_model_params.txt', 'w') as f:\n",
        "            f.write(f\"Mejores parámetros: {best_params}\\n\")\n",
        "            f.write(f\"R² score: {best_score:.6f}\\n\")\n",
        "\n",
        "        mlflow.log_artifact('best_model_params.txt')\n",
        "    else:\n",
        "        print(\"No se encontró un modelo válido\")\n",
        "\n",
        "print(\"\\nProceso completado.\")"
      ],
      "metadata": {
        "colab": {
          "base_uri": "https://localhost:8080/"
        },
        "id": "GHCYb8k6Hda3",
        "outputId": "b2f09944-93cb-4081-bc9b-28c4f080ba9c"
      },
      "execution_count": null,
      "outputs": [
        {
          "output_type": "stream",
          "name": "stdout",
          "text": [
            "Sesión anterior de MLflow finalizada\n",
            "Configurando MLflow...\n",
            "URI de tracking: https://dagshub.com/AngelBReal/DeAMentis-AAA.mlflow\n",
            "\n",
            "Cargando dataset...\n"
          ]
        },
        {
          "output_type": "stream",
          "name": "stderr",
          "text": [
            "<ipython-input-41-0d7bf3f5411c>:32: DtypeWarning: Columns (9,10,11,12,13,14,15,16,17,18,19,20,21,22,23,24,25,26,27,28,29,30,31,32,33,34,35,36,37,38,39,40,41,42,43,44,45,46,47,48,49,50,51,52,53,54,55,56,57,58,59,60,61,62,63,64,65,66,67,68,69,70,71,72,73,74,75,76,77,78,79,80,81,82,83,84,85,86,87,88,89,90,91,92,93,94,95,96,97,98,99,100,101,102,103,104,105,106,107,108,109,110,111,112,113,114,115,116,117,118,119,120,121,122,123,124,125,126,127,128,129,130,131,132,133,134,135,136,137,138,139,140,141,142,143,144,145,146,147,148,149,150,151,152,153,154,155,156,157,158,159,160,161,162,163,164,165,166,167,168,169,170,171,172,173,174,175,176,177,178,179,180,181,182,183,184,185,186,187,188,189,190,191,192,193,194,195,196,197,198,199,200,201,202,203,204,205,206,207,208,209,210,211,212,213,214,215,216,217,218,219,220,221,222,223,224,225,226,227,228,229,230,231,232,233,234,235,236,237,238,239,240,241,242,243,244,245,246,247,248,249,250,251,252,253,254,255,256,257,258,259,260,261,262,263,264,265,266,267,268,269,270,271,272,273,274,275,276,277,278,279,280,281,282,283,284,285,286,287,288,289,290,291,292,293,294,295,296,297,298,299,300,301,302,303,304,305,306,307,308,309,310,311,312,313,314,315,316,317,318,319,320,321,322,323,324,325,326,327,328,329,330,331,332,333,334,335,336,337,338,339,340,341,342,343,344,345,346,347,348,349,350,351,352,353,354,355,356,357,358,359,360) have mixed types. Specify dtype option on import or set low_memory=False.\n",
            "  df = pd.read_csv(\"/content/classical_models.csv\")\n"
          ]
        },
        {
          "output_type": "stream",
          "name": "stdout",
          "text": [
            "Dataset cargado: 3878 filas, 861 columnas\n",
            "Dataset después de limpiar: 3063 filas\n",
            "Conjunto de entrenamiento: (2450, 860)\n",
            "Conjunto de prueba: (613, 860)\n"
          ]
        },
        {
          "output_type": "stream",
          "name": "stderr",
          "text": [
            "2025/05/05 06:28:21 INFO mlflow.tracking.fluent: Experiment with name 'Regresión Noticias Falsas' does not exist. Creating a new experiment.\n"
          ]
        },
        {
          "output_type": "stream",
          "name": "stdout",
          "text": [
            "Experimento configurado: Regresión Noticias Falsas\n",
            "\n",
            "Ejecución principal iniciada: b13fe87aa6df4c27815d45fb20adff80\n",
            "Total de combinaciones a probar: 12\n",
            "\n",
            "Probando combinación 1/12:\n",
            "Parámetros: {'max_depth': 5, 'min_samples_split': 2, 'n_estimators': 100}\n",
            "Ejecución anidada iniciada: cafed377aac14db3a4e7063b4f4e5fce\n",
            "Entrenando modelo...\n",
            "MSE: 0.160283\n",
            "MAE: 0.320930\n",
            "R²: 0.265067\n"
          ]
        },
        {
          "output_type": "stream",
          "name": "stderr",
          "text": [
            "\u001b[31m2025/05/05 06:28:42 WARNING mlflow.models.model: Model logged without a signature and input example. Please set `input_example` parameter when logging the model to auto infer the model signature.\u001b[0m\n"
          ]
        },
        {
          "output_type": "stream",
          "name": "stdout",
          "text": [
            "¡Nuevo mejor modelo encontrado!\n",
            "🏃 View run Modelo con params: {'max_depth': 5, 'min_samples_split': 2, 'n_estimators': 100} at: https://dagshub.com/AngelBReal/DeAMentis-AAA.mlflow/#/experiments/4/runs/cafed377aac14db3a4e7063b4f4e5fce\n",
            "🧪 View experiment at: https://dagshub.com/AngelBReal/DeAMentis-AAA.mlflow/#/experiments/4\n",
            "\n",
            "Probando combinación 2/12:\n",
            "Parámetros: {'max_depth': 5, 'min_samples_split': 2, 'n_estimators': 200}\n",
            "Ejecución anidada iniciada: ca145506ebbc4f4698bc7a2f0afa38cf\n",
            "Entrenando modelo...\n",
            "MSE: 0.160617\n",
            "MAE: 0.321189\n",
            "R²: 0.263535\n"
          ]
        },
        {
          "output_type": "stream",
          "name": "stderr",
          "text": [
            "\u001b[31m2025/05/05 06:29:15 WARNING mlflow.models.model: Model logged without a signature and input example. Please set `input_example` parameter when logging the model to auto infer the model signature.\u001b[0m\n"
          ]
        },
        {
          "output_type": "stream",
          "name": "stdout",
          "text": [
            "🏃 View run Modelo con params: {'max_depth': 5, 'min_samples_split': 2, 'n_estimators': 200} at: https://dagshub.com/AngelBReal/DeAMentis-AAA.mlflow/#/experiments/4/runs/ca145506ebbc4f4698bc7a2f0afa38cf\n",
            "🧪 View experiment at: https://dagshub.com/AngelBReal/DeAMentis-AAA.mlflow/#/experiments/4\n",
            "\n",
            "Probando combinación 3/12:\n",
            "Parámetros: {'max_depth': 5, 'min_samples_split': 5, 'n_estimators': 100}\n",
            "Ejecución anidada iniciada: 5f7a429c081a48d5a50198dca7107a5e\n",
            "Entrenando modelo...\n",
            "MSE: 0.160365\n",
            "MAE: 0.321064\n",
            "R²: 0.264691\n"
          ]
        },
        {
          "output_type": "stream",
          "name": "stderr",
          "text": [
            "\u001b[31m2025/05/05 06:29:36 WARNING mlflow.models.model: Model logged without a signature and input example. Please set `input_example` parameter when logging the model to auto infer the model signature.\u001b[0m\n"
          ]
        },
        {
          "output_type": "stream",
          "name": "stdout",
          "text": [
            "🏃 View run Modelo con params: {'max_depth': 5, 'min_samples_split': 5, 'n_estimators': 100} at: https://dagshub.com/AngelBReal/DeAMentis-AAA.mlflow/#/experiments/4/runs/5f7a429c081a48d5a50198dca7107a5e\n",
            "🧪 View experiment at: https://dagshub.com/AngelBReal/DeAMentis-AAA.mlflow/#/experiments/4\n",
            "\n",
            "Probando combinación 4/12:\n",
            "Parámetros: {'max_depth': 5, 'min_samples_split': 5, 'n_estimators': 200}\n",
            "Ejecución anidada iniciada: 70bf1305a8214fa9ac934b17e5b05430\n",
            "Entrenando modelo...\n",
            "MSE: 0.160714\n",
            "MAE: 0.321324\n",
            "R²: 0.263087\n"
          ]
        },
        {
          "output_type": "stream",
          "name": "stderr",
          "text": [
            "\u001b[31m2025/05/05 06:30:08 WARNING mlflow.models.model: Model logged without a signature and input example. Please set `input_example` parameter when logging the model to auto infer the model signature.\u001b[0m\n"
          ]
        },
        {
          "output_type": "stream",
          "name": "stdout",
          "text": [
            "🏃 View run Modelo con params: {'max_depth': 5, 'min_samples_split': 5, 'n_estimators': 200} at: https://dagshub.com/AngelBReal/DeAMentis-AAA.mlflow/#/experiments/4/runs/70bf1305a8214fa9ac934b17e5b05430\n",
            "🧪 View experiment at: https://dagshub.com/AngelBReal/DeAMentis-AAA.mlflow/#/experiments/4\n",
            "\n",
            "Probando combinación 5/12:\n",
            "Parámetros: {'max_depth': 10, 'min_samples_split': 2, 'n_estimators': 100}\n",
            "Ejecución anidada iniciada: 9a25fb7a89b645c08f745b3d6ae24cc0\n",
            "Entrenando modelo...\n",
            "MSE: 0.152251\n",
            "MAE: 0.295476\n",
            "R²: 0.301893\n"
          ]
        },
        {
          "output_type": "stream",
          "name": "stderr",
          "text": [
            "\u001b[31m2025/05/05 06:30:38 WARNING mlflow.models.model: Model logged without a signature and input example. Please set `input_example` parameter when logging the model to auto infer the model signature.\u001b[0m\n"
          ]
        },
        {
          "output_type": "stream",
          "name": "stdout",
          "text": [
            "¡Nuevo mejor modelo encontrado!\n",
            "🏃 View run Modelo con params: {'max_depth': 10, 'min_samples_split': 2, 'n_estimators': 100} at: https://dagshub.com/AngelBReal/DeAMentis-AAA.mlflow/#/experiments/4/runs/9a25fb7a89b645c08f745b3d6ae24cc0\n",
            "🧪 View experiment at: https://dagshub.com/AngelBReal/DeAMentis-AAA.mlflow/#/experiments/4\n",
            "\n",
            "Probando combinación 6/12:\n",
            "Parámetros: {'max_depth': 10, 'min_samples_split': 2, 'n_estimators': 200}\n",
            "Ejecución anidada iniciada: 352a7f103d9c402cad52bb966ac07679\n",
            "Entrenando modelo...\n",
            "MSE: 0.152646\n",
            "MAE: 0.296899\n",
            "R²: 0.300084\n"
          ]
        },
        {
          "output_type": "stream",
          "name": "stderr",
          "text": [
            "\u001b[31m2025/05/05 06:31:28 WARNING mlflow.models.model: Model logged without a signature and input example. Please set `input_example` parameter when logging the model to auto infer the model signature.\u001b[0m\n"
          ]
        },
        {
          "output_type": "stream",
          "name": "stdout",
          "text": [
            "🏃 View run Modelo con params: {'max_depth': 10, 'min_samples_split': 2, 'n_estimators': 200} at: https://dagshub.com/AngelBReal/DeAMentis-AAA.mlflow/#/experiments/4/runs/352a7f103d9c402cad52bb966ac07679\n",
            "🧪 View experiment at: https://dagshub.com/AngelBReal/DeAMentis-AAA.mlflow/#/experiments/4\n",
            "\n",
            "Probando combinación 7/12:\n",
            "Parámetros: {'max_depth': 10, 'min_samples_split': 5, 'n_estimators': 100}\n",
            "Ejecución anidada iniciada: ec7d8c01da3746f2a25a605f3b246e0f\n",
            "Entrenando modelo...\n",
            "MSE: 0.152146\n",
            "MAE: 0.295431\n",
            "R²: 0.302373\n"
          ]
        },
        {
          "output_type": "stream",
          "name": "stderr",
          "text": [
            "\u001b[31m2025/05/05 06:31:58 WARNING mlflow.models.model: Model logged without a signature and input example. Please set `input_example` parameter when logging the model to auto infer the model signature.\u001b[0m\n"
          ]
        },
        {
          "output_type": "stream",
          "name": "stdout",
          "text": [
            "¡Nuevo mejor modelo encontrado!\n",
            "🏃 View run Modelo con params: {'max_depth': 10, 'min_samples_split': 5, 'n_estimators': 100} at: https://dagshub.com/AngelBReal/DeAMentis-AAA.mlflow/#/experiments/4/runs/ec7d8c01da3746f2a25a605f3b246e0f\n",
            "🧪 View experiment at: https://dagshub.com/AngelBReal/DeAMentis-AAA.mlflow/#/experiments/4\n",
            "\n",
            "Probando combinación 8/12:\n",
            "Parámetros: {'max_depth': 10, 'min_samples_split': 5, 'n_estimators': 200}\n",
            "Ejecución anidada iniciada: 6987f378e41949079540549c28ba4395\n",
            "Entrenando modelo...\n",
            "MSE: 0.152522\n",
            "MAE: 0.296789\n",
            "R²: 0.300653\n"
          ]
        },
        {
          "output_type": "stream",
          "name": "stderr",
          "text": [
            "\u001b[31m2025/05/05 06:32:49 WARNING mlflow.models.model: Model logged without a signature and input example. Please set `input_example` parameter when logging the model to auto infer the model signature.\u001b[0m\n"
          ]
        },
        {
          "output_type": "stream",
          "name": "stdout",
          "text": [
            "🏃 View run Modelo con params: {'max_depth': 10, 'min_samples_split': 5, 'n_estimators': 200} at: https://dagshub.com/AngelBReal/DeAMentis-AAA.mlflow/#/experiments/4/runs/6987f378e41949079540549c28ba4395\n",
            "🧪 View experiment at: https://dagshub.com/AngelBReal/DeAMentis-AAA.mlflow/#/experiments/4\n",
            "\n",
            "Probando combinación 9/12:\n",
            "Parámetros: {'max_depth': None, 'min_samples_split': 2, 'n_estimators': 100}\n",
            "Ejecución anidada iniciada: 20c10797ffca40a6b895f553050a2e21\n",
            "Entrenando modelo...\n",
            "MSE: 0.146625\n",
            "MAE: 0.284013\n",
            "R²: 0.327690\n"
          ]
        },
        {
          "output_type": "stream",
          "name": "stderr",
          "text": [
            "\u001b[31m2025/05/05 06:33:44 WARNING mlflow.models.model: Model logged without a signature and input example. Please set `input_example` parameter when logging the model to auto infer the model signature.\u001b[0m\n"
          ]
        },
        {
          "output_type": "stream",
          "name": "stdout",
          "text": [
            "¡Nuevo mejor modelo encontrado!\n",
            "🏃 View run Modelo con params: {'max_depth': None, 'min_samples_split': 2, 'n_estimators': 100} at: https://dagshub.com/AngelBReal/DeAMentis-AAA.mlflow/#/experiments/4/runs/20c10797ffca40a6b895f553050a2e21\n",
            "🧪 View experiment at: https://dagshub.com/AngelBReal/DeAMentis-AAA.mlflow/#/experiments/4\n",
            "\n",
            "Probando combinación 10/12:\n",
            "Parámetros: {'max_depth': None, 'min_samples_split': 2, 'n_estimators': 200}\n",
            "Ejecución anidada iniciada: 30133cbbde7b4ebba10ea82b10483382\n",
            "Entrenando modelo...\n"
          ]
        }
      ]
    }
  ]
}